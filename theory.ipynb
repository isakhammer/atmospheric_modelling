{
  "nbformat": 4,
  "nbformat_minor": 0,
  "metadata": {
    "colab": {
      "name": "theory.ipynb",
      "provenance": [],
      "collapsed_sections": [],
      "include_colab_link": true
    },
    "kernelspec": {
      "name": "python3",
      "display_name": "Python 3"
    }
  },
  "cells": [
    {
      "cell_type": "markdown",
      "metadata": {
        "id": "view-in-github",
        "colab_type": "text"
      },
      "source": [
        "<a href=\"https://colab.research.google.com/github/isakhammer/atmospheric_modelling/blob/master/theory.ipynb\" target=\"_parent\"><img src=\"https://colab.research.google.com/assets/colab-badge.svg\" alt=\"Open In Colab\"/></a>"
      ]
    },
    {
      "cell_type": "markdown",
      "metadata": {
        "id": "I5_wvNrGlDQ_"
      },
      "source": [
        "\n",
        "**Question 3**\n",
        "\n",
        "$$\n",
        "\\frac{ \\partial }{\\partial t}(c \\rho T) = \\nabla \\cdot (k \\nabla T) + Q \n",
        "$$\n",
        "\n",
        "*From Ola on piazza.*\n",
        "$$\n",
        "\\frac{ d }{d t} \\int_{\\Omega} c \\rho T(t,x)dx = - \\int_{\\partial \\Omega } F(t,x) \\vec{\\nu} d \\vec {\\sigma} + \\int_{\\Omega } q dx\n",
        "$$\n",
        "\n",
        "1. Change of heat in the total system inside $\\Omega$\n",
        "$$\n",
        "\\frac{ d }{d t} \\int_{\\Omega} c \\rho T(t,x)dx\n",
        "$$\n",
        "2. Outwards heat  \n",
        "$$\n",
        " - \\int_{\\partial \\Omega } F(t,x) \\vec{\\nu} d \\vec {\\sigma}\n",
        "$$\n",
        "\n",
        "3.  Solar heat\n",
        "$$\n",
        "\\int_{\\Omega } q dx\n",
        "$$\n",
        "\n",
        "Where $F$ is essentially out-flux of heat (fouriers law), $q$ is heat from sun and  left side of equation is total energy in the system.\n",
        "\n",
        "Consider when area of $\\Omega$ to be very small and divide by $|\\Omega|$ to make the differential equation(?).\n",
        "\n",
        "\n",
        "\n",
        "**Question 4**\n",
        "\n",
        "$$\n",
        "\\frac{ \\partial T}{\\partial t} = D_{\\phi} (K_a \\frac{ \\partial T}{\\partial \\phi} ) + q\n",
        "$$\n",
        "\n",
        "Is this basically a derivation for spherical coordinates?\n",
        "\n",
        "\n",
        "\n"
      ]
    }
  ]
}